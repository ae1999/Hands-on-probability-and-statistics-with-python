{
 "cells": [
  {
   "cell_type": "markdown",
   "metadata": {},
   "source": [
    "# Homework #1 - Basic Statistics\n",
    "\n",
    "**In this assignment, you are going to solve some basic statistical problems like estimating parameters of a distribution. In each problem, you are instructed to write little chunks of Python code. Additionally, there are few questions that you have to answer based on your observations and your knowledge of statistics.**\n",
    "\n",
    "**Ultimately, you are expected to submit your solutions as a single jupyter notebook, *not a python script or anything else.***\n",
    "\n",
    "**In the case of any questions, post it on the Q&A forum.**\n",
    "\n",
    "Good Luck"
   ]
  },
  {
   "cell_type": "code",
   "execution_count": 1,
   "metadata": {},
   "outputs": [],
   "source": [
    "import numpy as np\n",
    "\n",
    "import matplotlib.pyplot as plt\n",
    "from matplotlib import colors\n",
    "from matplotlib.ticker import PercentFormatter\n",
    "\n",
    "import scipy.stats\n",
    "\n",
    "from dists import *"
   ]
  },
  {
   "cell_type": "markdown",
   "metadata": {},
   "source": [
    "# Problem #1 - Parameter Estimation\n",
    "\n",
    "**A) By calling `my_kappa(n_sample, student_id)`, draw a sample of size 100 from the my_kappa distribution.**"
   ]
  },
  {
   "cell_type": "code",
   "execution_count": 2,
   "metadata": {},
   "outputs": [],
   "source": [
    "n_sample = 100\n",
    "student_id = 810696336\n",
    "sample = my_kappa(n_sample, student_id)"
   ]
  },
  {
   "cell_type": "code",
   "execution_count": 3,
   "metadata": {},
   "outputs": [
    {
     "data": {
      "text/plain": [
       "[<matplotlib.lines.Line2D at 0x126014410>]"
      ]
     },
     "execution_count": 3,
     "metadata": {},
     "output_type": "execute_result"
    },
    {
     "data": {
      "image/png": "[encoded data removed]",
      "text/plain": [
       "<Figure size 432x288 with 1 Axes>"
      ]
     },
     "metadata": {},
     "output_type": "display_data"
    }
   ],
   "source": [
    "plt.plot(sample, 'ro')"
   ]
  },
  {
   "cell_type": "markdown",
   "metadata": {},
   "source": [
    "**B) Calculate and print the mean of the sample you've just drawn.**"
   ]
  },
  {
   "cell_type": "code",
   "execution_count": 4,
   "metadata": {},
   "outputs": [
    {
     "name": "stdout",
     "output_type": "stream",
     "text": [
      "mean: -0.00883193819708624\n"
     ]
    }
   ],
   "source": [
    "mean = sample.mean()\n",
    "print('mean:', mean)"
   ]
  },
  {
   "cell_type": "markdown",
   "metadata": {},
   "source": [
    "**C) Calculate the *unbiased estimation* of the standard deviation of your sample.**\n",
    "\n",
    "\n",
    "$$unbiased \\space estimation \\space of \\space the \\space variance\n",
    "\\space (S^2) = \\frac{\\sum_{i=1}^{n} (X_i - \\bar{X})^2}{N-1}$$\n",
    "\n",
    "$$unbiased \\space estimation \\space of \\space the \\space standard \\space deviation\n",
    "\\space (S) = \\sqrt{S^2}$$"
   ]
  },
  {
   "cell_type": "code",
   "execution_count": 5,
   "metadata": {},
   "outputs": [
    {
     "name": "stdout",
     "output_type": "stream",
     "text": [
      "Unbiased estimation of the standard deviation 4.659812565332922\n"
     ]
    }
   ],
   "source": [
    "UESD = ((((sample - mean)**2)/(len(sample)-1)).sum())**(1/2)\n",
    "print(\"Unbiased estimation of the standard deviation\", UESD)"
   ]
  },
  {
   "cell_type": "markdown",
   "metadata": {},
   "source": [
    "**D) Answer the following questions.**\n",
    "- What is an unbiased estimator?\n",
    "\n",
    "> <div>\n",
    "> <p>\n",
    "In statistics we describe a population using some quantities such as mean, variance, mode, median, standard deviation and ...</p>\n",
    "> <p style=\"text-align: justify;\">\n",
    "Since the population is usually too big, the calculation of mentioned quantities is usually too hard, therefore we need to estimate these quantities of interest from the population. Sampling techniques are one of the most useful methods which have some advantages and disadvantages; low accuracy (overestimation or underestimation) has been one of the main difficulties associated with these methods of estimation. In convolution a quantity which we use to approximate a population is an estimator, and we define an estimator unbiased, if the estimation is accurate (by means of low over/under-estimation). In other definition an unbiased estimator is when the statistical parameters of sampling distribution is equal to the population’s parameter.\n",
    "</p>\n",
    "</div>\n",
    "\n",
    "- In what situations the maximum likelihood estimation of the variance of a distribution can severely contaminate the estimation?\n",
    "\n",
    "> <div>\n",
    "> <p style=\"text-align: justify;\">\n",
    "    - The maximum likelihood estimation is biased if the sample is too small. <br>\n",
    "    - MLE is non-trivial and for initial values it would be unstable.\n",
    "</p>\n",
    "</div>"
   ]
  },
  {
   "cell_type": "markdown",
   "metadata": {},
   "source": [
    "**E) Now, draw 2000 samples of size 100 and store their means in an array You're going to use this array in the next questions.**"
   ]
  },
  {
   "cell_type": "code",
   "execution_count": 6,
   "metadata": {},
   "outputs": [],
   "source": [
    "sample_mean = np.array([my_kappa(n_sample, student_id).mean() for i in range(2000)])"
   ]
  },
  {
   "cell_type": "markdown",
   "metadata": {},
   "source": [
    "# Problem #2 - Data Visualization and CLT"
   ]
  },
  {
   "cell_type": "markdown",
   "metadata": {},
   "source": [
    "**A) Draw a sample of size 2000 from my_kappa distribution. Then, using matplotlib package, depict the histogram of your sample.**"
   ]
  },
  {
   "cell_type": "code",
   "execution_count": 7,
   "metadata": {},
   "outputs": [
    {
     "data": {
      "image/png": "[encoded data removed]",
      "text/plain": [
       "<Figure size 432x288 with 1 Axes>"
      ]
     },
     "metadata": {},
     "output_type": "display_data"
    },
    {
     "data": {
      "image/png": "[encoded data removed]",
      "text/plain": [
       "<Figure size 432x288 with 1 Axes>"
      ]
     },
     "metadata": {},
     "output_type": "display_data"
    }
   ],
   "source": [
    "n_sample = 2000\n",
    "sample = my_kappa(n_sample, student_id)\n",
    "\n",
    "n_bins = [10, 20]\n",
    "for n_bin in n_bins:\n",
    "    N, bins, patches = plt.hist(sample, bins=n_bin)\n",
    "    fracs = N / N.max()\n",
    "    plt.title('Histogram Distribution with ' + str(n_bin) + ' bins')\n",
    "    plt.ylabel('Number of samples')\n",
    "    norm = colors.Normalize(fracs.min(), fracs.max())\n",
    "    for thisfrac, thispatch in zip(fracs, patches):\n",
    "        color = plt.cm.viridis(norm(thisfrac))\n",
    "        thispatch.set_facecolor(color)\n",
    "    plt.show()"
   ]
  },
  {
   "cell_type": "markdown",
   "metadata": {},
   "source": [
    "**B) Now, plot the histogram of the sample means you've calculate in problem 1 part E.**"
   ]
  },
  {
   "cell_type": "code",
   "execution_count": 8,
   "metadata": {},
   "outputs": [
    {
     "data": {
      "image/png": "[encoded data removed]",
      "text/plain": [
       "<Figure size 432x288 with 1 Axes>"
      ]
     },
     "metadata": {},
     "output_type": "display_data"
    },
    {
     "data": {
      "image/png": "[encoded data removed]",
      "text/plain": [
       "<Figure size 432x288 with 1 Axes>"
      ]
     },
     "metadata": {},
     "output_type": "display_data"
    }
   ],
   "source": [
    "n_sample = 2000\n",
    "\n",
    "n_bins = [10, 20]\n",
    "for n_bin in n_bins:\n",
    "    N, bins, patches = plt.hist(sample_mean, bins=n_bin)\n",
    "    fracs = N / N.max()\n",
    "    plt.title('Histogram Distribution with ' + str(n_bin) + ' bins')\n",
    "    plt.ylabel('Number of samples')\n",
    "    norm = colors.Normalize(fracs.min(), fracs.max())\n",
    "    for thisfrac, thispatch in zip(fracs, patches):\n",
    "        color = plt.cm.viridis(norm(thisfrac))\n",
    "        thispatch.set_facecolor(color)\n",
    "    plt.show()"
   ]
  },
  {
   "cell_type": "markdown",
   "metadata": {},
   "source": [
    "**C) Considering the 2000 realizations of the sample means distribution you've calculated in problem 1 part E, compute their mean and standard deviation.**"
   ]
  },
  {
   "cell_type": "code",
   "execution_count": 9,
   "metadata": {},
   "outputs": [
    {
     "name": "stdout",
     "output_type": "stream",
     "text": [
      "mean: -0.0019292664751558175\n",
      "STD: 0.4707384897446875\n"
     ]
    }
   ],
   "source": [
    "mean = sample_mean.mean()\n",
    "STD = sample_mean.std()\n",
    "print('mean:', mean)\n",
    "print('STD:', STD)"
   ]
  },
  {
   "cell_type": "markdown",
   "metadata": {},
   "source": [
    "**D) Answer the following questions.**\n",
    "\n",
    "- What do you think is the main characteristic of the second histogram?\n",
    "\n",
    "> <div>\n",
    "> <p style=\"text-align: justify;\">\n",
    "The histogram is close to a normal distribution.<br>\n",
    "Central limit theorem: no mater what is the distribution of the initial random variable, the distribution of sample means will be closer to normal distribution as we increase the size of samples.\n",
    "</p>\n",
    "</div>\n",
    "\n",
    "- Interpret the results of part C. Do these results have any association with your estimation of the mean of my_kappa distribution? Explain.\n",
    "\n",
    "> <div>\n",
    " <table style=\"text-align: center; width:500px\">\n",
    "  <tr>\n",
    "    <th style=\"text-align: center;\"></th>\n",
    "    <th style=\"text-align: center;\">Mean</th>\n",
    "    <th style=\"text-align: center;\">STD (unbiased estimation)</th>\n",
    "  </tr>\n",
    "  <tr>\n",
    "    <td style=\"text-align: center;\">First Sample</td>\n",
    "    <td style=\"text-align: center;\">-0.008831</td>\n",
    "    <td style=\"text-align: center;\">4.65981</td>\n",
    "  </tr>\n",
    "  <tr>\n",
    "    <td style=\"text-align: center;\">Sample Mean</td>\n",
    "    <td style=\"text-align: center;\">-0.001929</td>\n",
    "    <td style=\"text-align: center;\">0.470738</td>\n",
    "  </tr>\n",
    " </table>\n",
    " <p style=\"text-align: justify;\">\n",
    "     The sampling distribution of sample mean has the same mean as the original distribution. (In this particular example there might be some slight differences and the reason can be the unbiased sample)\n",
    "     $$\\mu_\\bar{X} = \\mu$$\n",
    "     As we increase the samples size (of sampling distribution of sample mean), the kurtosis of the resulted normal distribution increase, and the variance (and standard deviation) decrease. The variance of the sampling distribution of the mean is the population variance divided by N.\n",
    " </p>\n",
    " <br>\n",
    " $$\\sigma_{sample \\space mean} ^2 = \\frac{\\sigma_{original \\space distribution}^2}{{N}}$$\n",
    " <br>\n",
    " $$\\sigma_{sample \\space mean} = \\frac{\\sigma_{original \\space distribution}}{\\sqrt{N}}$$\n",
    "</div>\n",
    "<img src=\"http://ceadserv1.nku.edu/longa/classes/sta205-022/days/images/clt_sim2.gif\">"
   ]
  },
  {
   "cell_type": "markdown",
   "metadata": {},
   "source": [
    "# Problem #3 - Confidence Interval"
   ]
  },
  {
   "cell_type": "markdown",
   "metadata": {},
   "source": [
    "**A) Construct a 95% confidence interval on the sample means of my_kappa distribution. Your result, obviously, consists of two numbers: a lower bound and an upper bound of the calculated interval.**"
   ]
  },
  {
   "cell_type": "code",
   "execution_count": 10,
   "metadata": {},
   "outputs": [],
   "source": [
    "def confidence_interval(sample, confidence):\n",
    "    mean = np.mean(sample)\n",
    "    se = scipy.stats.sem(sample)\n",
    "    ci = se * scipy.stats.t.ppf((1 + confidence) / 2., len(sample)-1)\n",
    "    return ci"
   ]
  },
  {
   "cell_type": "code",
   "execution_count": 11,
   "metadata": {},
   "outputs": [
    {
     "name": "stdout",
     "output_type": "stream",
     "text": [
      "Mean: -0.0019292664751558175\n",
      "Confidece Intercal 0.02064830655715918\n",
      "from -0.022577573032314998 to 0.018719040082003365\n"
     ]
    }
   ],
   "source": [
    "ci = confidence_interval(sample_mean, 0.95)\n",
    "print('Mean:', sample_mean.mean())\n",
    "print('Confidece Intercal', ci)\n",
    "print('from', sample_mean.mean()-ci, 'to', sample_mean.mean()+ci)"
   ]
  },
  {
   "cell_type": "markdown",
   "metadata": {},
   "source": [
    "Another way to calculate the cofidence iterval is to use the normal integral costants table:\n",
    "$$ confidence \\space interval = \\bar{X} \\pm Z\\frac{s}{\\sqrt{N}} $$\n",
    "\n",
    "<table>\n",
    "    <tbody>\n",
    "        <tr>\n",
    "            <td style=\"text-align: center;\"><b>Confidence<br>\n",
    "                Interval</b></td>\n",
    "            <td style=\"text-align: center;\"><b>Z</b></td>\n",
    "        </tr>\n",
    "        <tr>\n",
    "            <td width=\"100\" style=\"text-align: center;\">80%</td>\n",
    "            <td width=\"100\" style=\"text-align: center;\">1.282</td>\n",
    "        </tr>\n",
    "        <tr>\n",
    "            <td width=\"100\" style=\"text-align: center;\">85%</td>\n",
    "            <td style=\"text-align: center;\">1.440</td>\n",
    "        </tr>\n",
    "        <tr>\n",
    "            <td width=\"100\" style=\"text-align: center;\">90%</td>\n",
    "            <td style=\"text-align: center;\">1.645</td>\n",
    "        </tr>\n",
    "        <tr>\n",
    "            <td width=\"100\" style=\"text-align: center;\">95%</td>\n",
    "            <td style=\"text-align: center;\">1.960</td>\n",
    "        </tr>\n",
    "        <tr>\n",
    "            <td width=\"100\" style=\"text-align: center;\">99%</td>\n",
    "            <td style=\"text-align: center;\">2.576</td>\n",
    "        </tr>\n",
    "        <tr>\n",
    "            <td width=\"100\" style=\"text-align: center;\">99.5%</td>\n",
    "            <td style=\"text-align: center;\">2.807</td>\n",
    "        </tr>\n",
    "        <tr>\n",
    "            <td width=\"100\" style=\"text-align: center;\">99.9%</td>\n",
    "            <td style=\"text-align: center;\">3.291</td>\n",
    "        </tr>\n",
    "    </tbody>\n",
    " </table>\n",
    "\t\t\t"
   ]
  },
  {
   "cell_type": "code",
   "execution_count": 12,
   "metadata": {},
   "outputs": [
    {
     "name": "stdout",
     "output_type": "stream",
     "text": [
      "Mean: -0.0019292664751558175\n",
      "Confidece Intercal 0.020631023948816295\n",
      "from -0.02256029042397211 to 0.01870175747366048\n"
     ]
    }
   ],
   "source": [
    "ci = 1.96*sample_mean.std()/(len(sample_mean))**(1/2)\n",
    "print('Mean:', sample_mean.mean())\n",
    "print('Confidece Intercal', ci)\n",
    "print('from', sample_mean.mean()-ci, 'to', sample_mean.mean()+ci)"
   ]
  },
  {
   "cell_type": "markdown",
   "metadata": {},
   "source": [
    "**B) What does this interval mean?**\n",
    "\n",
    "> <div>\n",
    "> <p style=\"text-align: justify;\">\n",
    "Confidence  interval express the degree of uncertainty around a certain effect. The smaller confidence interval, the more precise the estimated effect. Confidence interval is a range which defines that there is a specified probability that the value of a parameter lies within it. (In this specific example the probability is equal to 0.95)\n",
    "</p>\n",
    "</div>"
   ]
  },
  {
   "cell_type": "markdown",
   "metadata": {},
   "source": [
    "# Problem #4 - Estimating The Parameters of Some Observations\n",
    "\n",
    "**In this problem, you're going to estimate the average of a random variable. In contrast with previous problems, this time the observations are collected one by one. To observe a single realization of this random variable, call `my_omicron(student_id)` function. Upon calling this function, a single observation/realization of this random variable is returned.**"
   ]
  },
  {
   "cell_type": "markdown",
   "metadata": {},
   "source": [
    "**A) Draw 100 samples from my_omicron distribution. After observing each realization, calculate the sample mean of the realizations you've observed so far. In addition to that, construct a confidence interval for your estimation at 0.1 significane level. Finally, plot your estimations in a bar plot alongside their confidence errors as whisckers of each bar. Your final plot should be similar to this:**\n",
    "\n",
    "<img src=\"https://support.content.office.net/en-us/media/68efe29e-f30c-4c6f-95cf-9cff7dde1131.jpg\" width=\"400px\" alt=\"no internet connection!\">"
   ]
  },
  {
   "cell_type": "code",
   "execution_count": 13,
   "metadata": {},
   "outputs": [],
   "source": [
    "samples = []\n",
    "mean = []\n",
    "std = []\n",
    "confidence_interval = []\n",
    "for i in range(100):\n",
    "    samples.append(my_omicron(student_id)[0])\n",
    "    mean.append(np.array(samples).mean())\n",
    "    std.append(np.array(samples).std())\n",
    "    confidence_interval.append(1.645*np.array(samples).std()/(len(samples))**(1/2))"
   ]
  },
  {
   "cell_type": "code",
   "execution_count": 14,
   "metadata": {},
   "outputs": [
    {
     "data": {
      "image/png": "[encoded data removed]",
      "text/plain": [
       "<Figure size 720x432 with 1 Axes>"
      ]
     },
     "metadata": {},
     "output_type": "display_data"
    },
    {
     "data": {
      "image/png": "[encoded data removed]",
      "text/plain": [
       "<Figure size 720x432 with 1 Axes>"
      ]
     },
     "metadata": {},
     "output_type": "display_data"
    }
   ],
   "source": [
    "plt.figure(figsize=(10, 6))\n",
    "plt.plot(mean, 'bo', markersize=4)\n",
    "plt.title('Mean')\n",
    "plt.show()\n",
    "plt.figure(figsize=(10, 6))\n",
    "plt.plot(confidence_interval)\n",
    "plt.title('Connfidence Iterval (90 percent)')\n",
    "plt.show()"
   ]
  },
  {
   "cell_type": "code",
   "execution_count": 15,
   "metadata": {},
   "outputs": [
    {
     "data": {
      "image/png": "[encoded data removed]",
      "text/plain": [
       "<Figure size 1296x432 with 1 Axes>"
      ]
     },
     "metadata": {},
     "output_type": "display_data"
    }
   ],
   "source": [
    "plt.figure(figsize=(18, 6))\n",
    "plt.errorbar(range(100), mean, confidence_interval, mew=2, fmt='-o')\n",
    "plt.title('Mean + Confidece Interval (0.9) error')\n",
    "plt.show()"
   ]
  },
  {
   "cell_type": "markdown",
   "metadata": {},
   "source": [
    "**B) How is your estimation changing over time? How is your confidence interval changing? Explain why.**\n",
    "\n",
    "> <div>\n",
    "> <p style=\"text-align: justify;\">\n",
    "    As the number of observations increases, the mean and confidence interval values become more stable. at fist, we observe turbulent mean and high interval of confidece. This indicates that the smaller our sample, the less confident we can express the statistical characteristics of the population.\n",
    "\n",
    "\n",
    "</p>\n",
    "</div>"
   ]
  }
 ],
 "metadata": {
  "kernelspec": {
   "display_name": "Python 3",
   "language": "python",
   "name": "python3"
  },
  "language_info": {
   "codemirror_mode": {
    "name": "ipython",
    "version": 3
   },
   "file_extension": ".py",
   "mimetype": "text/x-python",
   "name": "python",
   "nbconvert_exporter": "python",
   "pygments_lexer": "ipython3",
   "version": "3.7.6"
  },
  "toc": {
   "base_numbering": 1,
   "nav_menu": {},
   "number_sections": true,
   "sideBar": true,
   "skip_h1_title": false,
   "title_cell": "Table of Contents",
   "title_sidebar": "Contents",
   "toc_cell": false,
   "toc_position": {},
   "toc_section_display": true,
   "toc_window_display": false
  },
  "varInspector": {
   "cols": {
    "lenName": 16,
    "lenType": 16,
    "lenVar": 40
   },
   "kernels_config": {
    "python": {
     "delete_cmd_postfix": "",
     "delete_cmd_prefix": "del ",
     "library": "var_list.py",
     "varRefreshCmd": "print(var_dic_list())"
    },
    "r": {
     "delete_cmd_postfix": ") ",
     "delete_cmd_prefix": "rm(",
     "library": "var_list.r",
     "varRefreshCmd": "cat(var_dic_list()) "
    }
   },
   "types_to_exclude": [
    "module",
    "function",
    "builtin_function_or_method",
    "instance",
    "_Feature"
   ],
   "window_display": false
  }
 },
 "nbformat": 4,
 "nbformat_minor": 2
}
